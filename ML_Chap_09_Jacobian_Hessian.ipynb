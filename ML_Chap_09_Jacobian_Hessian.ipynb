{
  "nbformat": 4,
  "nbformat_minor": 0,
  "metadata": {
    "colab": {
      "provenance": [],
      "authorship_tag": "ABX9TyMlqI7Sjco1dw5AtfKjJP33",
      "include_colab_link": true
    },
    "kernelspec": {
      "name": "python3",
      "display_name": "Python 3"
    },
    "language_info": {
      "name": "python"
    }
  },
  "cells": [
    {
      "cell_type": "markdown",
      "metadata": {
        "id": "view-in-github",
        "colab_type": "text"
      },
      "source": [
        "<a href=\"https://colab.research.google.com/github/clionelove123/Machine_Learning/blob/main/ML_Chap_09_Jacobian_Hessian.ipynb\" target=\"_parent\"><img src=\"https://colab.research.google.com/assets/colab-badge.svg\" alt=\"Open In Colab\"/></a>"
      ]
    },
    {
      "cell_type": "code",
      "execution_count": null,
      "metadata": {
        "id": "iDvLzb19gYKk"
      },
      "outputs": [],
      "source": [
        "import numpy as np"
      ]
    },
    {
      "cell_type": "code",
      "source": [
        "def Jacobian(x):\n",
        "    return np.array([x[0], 0.4*x[1], 1.2*x[2]])\n",
        "\n",
        "def Hessian(x):\n",
        "    #return array([[.2,0],[0,1]])\n",
        "    return np.array([[1,0,0],[0,0.4,0],[0,0,1.2]])"
      ],
      "metadata": {
        "id": "DnDD3ikAnz61"
      },
      "execution_count": null,
      "outputs": []
    },
    {
      "cell_type": "code",
      "source": [
        "def steepest(x0):\n",
        "\n",
        "    i = 0\n",
        "    iMax = 10\n",
        "    x = x0\n",
        "    Delta = 1\n",
        "    alpha = 1\n",
        "\n",
        "    while i < iMax and Delta > 10**(-5):\n",
        "        p = -Jacobian(x)\n",
        "        xOld = x\n",
        "        x = x + alpha * p\n",
        "        Delta = np.sum((x - xOld)**2)\n",
        "        print(x)\n",
        "        i += 1"
      ],
      "metadata": {
        "id": "I2bWbzuznxem"
      },
      "execution_count": null,
      "outputs": []
    },
    {
      "cell_type": "code",
      "source": [
        "def Newton(x0):\n",
        "\n",
        "    i = 0\n",
        "    iMax = 10\n",
        "    x = x0\n",
        "    Delta = 1\n",
        "    alpha = 1\n",
        "\n",
        "    while i<iMax and Delta>10**(-5):\n",
        "        p = -np.dot(np.linalg.inv(Hessian(x)),Jacobian(x))\n",
        "        xOld = x\n",
        "        x = x + alpha*p\n",
        "        Delta = np.sum((x-xOld)**2)\n",
        "        i += 1\n",
        "    print (x)"
      ],
      "metadata": {
        "id": "dFMfs-AQn4Ik"
      },
      "execution_count": null,
      "outputs": []
    },
    {
      "cell_type": "code",
      "source": [
        "x0 = np.array([-2, 2, -2])\n",
        "\n",
        "steepest(x0)"
      ],
      "metadata": {
        "colab": {
          "base_uri": "https://localhost:8080/"
        },
        "id": "B8T7OSpegdXk",
        "outputId": "1e5bb714-f0e2-42a0-b5f2-0ae36bb6ce4f"
      },
      "execution_count": null,
      "outputs": [
        {
          "output_type": "stream",
          "name": "stdout",
          "text": [
            "[0.  1.2 0.4]\n",
            "[ 0.    0.72 -0.08]\n",
            "[0.    0.432 0.016]\n",
            "[ 0.      0.2592 -0.0032]\n",
            "[0.      0.15552 0.00064]\n",
            "[ 0.        0.093312 -0.000128]\n",
            "[0.00000e+00 5.59872e-02 2.56000e-05]\n",
            "[ 0.000000e+00  3.359232e-02 -5.120000e-06]\n",
            "[0.0000000e+00 2.0155392e-02 1.0240000e-06]\n",
            "[ 0.00000000e+00  1.20932352e-02 -2.04800000e-07]\n"
          ]
        }
      ]
    },
    {
      "cell_type": "code",
      "source": [
        "x0 = np.array([-2, 2, -2])\n",
        "\n",
        "Newton(x0)"
      ],
      "metadata": {
        "colab": {
          "base_uri": "https://localhost:8080/"
        },
        "id": "SFQ5KXNeoCIZ",
        "outputId": "2c77a7c3-8856-4eaf-82cb-5617c1867ba0"
      },
      "execution_count": null,
      "outputs": [
        {
          "output_type": "stream",
          "name": "stdout",
          "text": [
            "[0. 0. 0.]\n"
          ]
        }
      ]
    }
  ]
}