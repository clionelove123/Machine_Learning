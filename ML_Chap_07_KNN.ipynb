{
  "nbformat": 4,
  "nbformat_minor": 0,
  "metadata": {
    "colab": {
      "provenance": [],
      "authorship_tag": "ABX9TyMUtQzLvRVDKos2HWbToRCp",
      "include_colab_link": true
    },
    "kernelspec": {
      "name": "python3",
      "display_name": "Python 3"
    },
    "language_info": {
      "name": "python"
    },
    "widgets": {
      "application/vnd.jupyter.widget-state+json": {
        "3b53a15b3dab405c8d52fc74179f3f7b": {
          "model_module": "@jupyter-widgets/controls",
          "model_name": "VBoxModel",
          "model_module_version": "1.5.0",
          "state": {
            "_dom_classes": [
              "widget-interact"
            ],
            "_model_module": "@jupyter-widgets/controls",
            "_model_module_version": "1.5.0",
            "_model_name": "VBoxModel",
            "_view_count": null,
            "_view_module": "@jupyter-widgets/controls",
            "_view_module_version": "1.5.0",
            "_view_name": "VBoxView",
            "box_style": "",
            "children": [
              "IPY_MODEL_638bd1a6d4ee417ab689e55f0e1c5922",
              "IPY_MODEL_4801847f22554b7eb3f997df519f0784"
            ],
            "layout": "IPY_MODEL_03434aa7fc80407981d6116b7fdacd9d"
          }
        },
        "638bd1a6d4ee417ab689e55f0e1c5922": {
          "model_module": "@jupyter-widgets/controls",
          "model_name": "DropdownModel",
          "model_module_version": "1.5.0",
          "state": {
            "_dom_classes": [],
            "_model_module": "@jupyter-widgets/controls",
            "_model_module_version": "1.5.0",
            "_model_name": "DropdownModel",
            "_options_labels": [
              "3",
              "5",
              "7",
              "9"
            ],
            "_view_count": null,
            "_view_module": "@jupyter-widgets/controls",
            "_view_module_version": "1.5.0",
            "_view_name": "DropdownView",
            "description": "k",
            "description_tooltip": null,
            "disabled": false,
            "index": 0,
            "layout": "IPY_MODEL_6fe2043b89f9451aa13b218d29d42f05",
            "style": "IPY_MODEL_971bbf4961a845e6804f80c13d028c09"
          }
        },
        "4801847f22554b7eb3f997df519f0784": {
          "model_module": "@jupyter-widgets/output",
          "model_name": "OutputModel",
          "model_module_version": "1.0.0",
          "state": {
            "_dom_classes": [],
            "_model_module": "@jupyter-widgets/output",
            "_model_module_version": "1.0.0",
            "_model_name": "OutputModel",
            "_view_count": null,
            "_view_module": "@jupyter-widgets/output",
            "_view_module_version": "1.0.0",
            "_view_name": "OutputView",
            "layout": "IPY_MODEL_e6f445f5b69c4d2683badc88ba82c6fb",
            "msg_id": "",
            "outputs": []
          }
        },
        "03434aa7fc80407981d6116b7fdacd9d": {
          "model_module": "@jupyter-widgets/base",
          "model_name": "LayoutModel",
          "model_module_version": "1.2.0",
          "state": {
            "_model_module": "@jupyter-widgets/base",
            "_model_module_version": "1.2.0",
            "_model_name": "LayoutModel",
            "_view_count": null,
            "_view_module": "@jupyter-widgets/base",
            "_view_module_version": "1.2.0",
            "_view_name": "LayoutView",
            "align_content": null,
            "align_items": null,
            "align_self": null,
            "border": null,
            "bottom": null,
            "display": null,
            "flex": null,
            "flex_flow": null,
            "grid_area": null,
            "grid_auto_columns": null,
            "grid_auto_flow": null,
            "grid_auto_rows": null,
            "grid_column": null,
            "grid_gap": null,
            "grid_row": null,
            "grid_template_areas": null,
            "grid_template_columns": null,
            "grid_template_rows": null,
            "height": null,
            "justify_content": null,
            "justify_items": null,
            "left": null,
            "margin": null,
            "max_height": null,
            "max_width": null,
            "min_height": null,
            "min_width": null,
            "object_fit": null,
            "object_position": null,
            "order": null,
            "overflow": null,
            "overflow_x": null,
            "overflow_y": null,
            "padding": null,
            "right": null,
            "top": null,
            "visibility": null,
            "width": null
          }
        },
        "6fe2043b89f9451aa13b218d29d42f05": {
          "model_module": "@jupyter-widgets/base",
          "model_name": "LayoutModel",
          "model_module_version": "1.2.0",
          "state": {
            "_model_module": "@jupyter-widgets/base",
            "_model_module_version": "1.2.0",
            "_model_name": "LayoutModel",
            "_view_count": null,
            "_view_module": "@jupyter-widgets/base",
            "_view_module_version": "1.2.0",
            "_view_name": "LayoutView",
            "align_content": null,
            "align_items": null,
            "align_self": null,
            "border": null,
            "bottom": null,
            "display": null,
            "flex": null,
            "flex_flow": null,
            "grid_area": null,
            "grid_auto_columns": null,
            "grid_auto_flow": null,
            "grid_auto_rows": null,
            "grid_column": null,
            "grid_gap": null,
            "grid_row": null,
            "grid_template_areas": null,
            "grid_template_columns": null,
            "grid_template_rows": null,
            "height": null,
            "justify_content": null,
            "justify_items": null,
            "left": null,
            "margin": null,
            "max_height": null,
            "max_width": null,
            "min_height": null,
            "min_width": null,
            "object_fit": null,
            "object_position": null,
            "order": null,
            "overflow": null,
            "overflow_x": null,
            "overflow_y": null,
            "padding": null,
            "right": null,
            "top": null,
            "visibility": null,
            "width": null
          }
        },
        "971bbf4961a845e6804f80c13d028c09": {
          "model_module": "@jupyter-widgets/controls",
          "model_name": "DescriptionStyleModel",
          "model_module_version": "1.5.0",
          "state": {
            "_model_module": "@jupyter-widgets/controls",
            "_model_module_version": "1.5.0",
            "_model_name": "DescriptionStyleModel",
            "_view_count": null,
            "_view_module": "@jupyter-widgets/base",
            "_view_module_version": "1.2.0",
            "_view_name": "StyleView",
            "description_width": ""
          }
        },
        "e6f445f5b69c4d2683badc88ba82c6fb": {
          "model_module": "@jupyter-widgets/base",
          "model_name": "LayoutModel",
          "model_module_version": "1.2.0",
          "state": {
            "_model_module": "@jupyter-widgets/base",
            "_model_module_version": "1.2.0",
            "_model_name": "LayoutModel",
            "_view_count": null,
            "_view_module": "@jupyter-widgets/base",
            "_view_module_version": "1.2.0",
            "_view_name": "LayoutView",
            "align_content": null,
            "align_items": null,
            "align_self": null,
            "border": null,
            "bottom": null,
            "display": null,
            "flex": null,
            "flex_flow": null,
            "grid_area": null,
            "grid_auto_columns": null,
            "grid_auto_flow": null,
            "grid_auto_rows": null,
            "grid_column": null,
            "grid_gap": null,
            "grid_row": null,
            "grid_template_areas": null,
            "grid_template_columns": null,
            "grid_template_rows": null,
            "height": null,
            "justify_content": null,
            "justify_items": null,
            "left": null,
            "margin": null,
            "max_height": null,
            "max_width": null,
            "min_height": null,
            "min_width": null,
            "object_fit": null,
            "object_position": null,
            "order": null,
            "overflow": null,
            "overflow_x": null,
            "overflow_y": null,
            "padding": null,
            "right": null,
            "top": null,
            "visibility": null,
            "width": null
          }
        }
      }
    }
  },
  "cells": [
    {
      "cell_type": "markdown",
      "metadata": {
        "id": "view-in-github",
        "colab_type": "text"
      },
      "source": [
        "<a href=\"https://colab.research.google.com/github/clionelove123/Machine_Learning/blob/main/ML_Chap_07_KNN.ipynb\" target=\"_parent\"><img src=\"https://colab.research.google.com/assets/colab-badge.svg\" alt=\"Open In Colab\"/></a>"
      ]
    },
    {
      "cell_type": "code",
      "execution_count": 1,
      "metadata": {
        "id": "XpMPyWxEveQ-"
      },
      "outputs": [],
      "source": [
        "import pandas as pd\n",
        "import numpy as np"
      ]
    },
    {
      "cell_type": "code",
      "source": [
        "\"\"\"\n",
        "Generate a set of sample data\n",
        "\"\"\"\n",
        "\n",
        "def create_data():\n",
        "    features = np.array(\n",
        "        [[2.88, 3.05], [3.1, 2.45], [3.05, 2.8], [2.9, 2.7], [2.75, 3.4],\n",
        "         [3.23, 2.9], [3.2, 3.75], [3.5, 2.9], [3.65, 3.6],[3.35, 3.3]])\n",
        "    labels = ['A', 'A', 'A', 'A', 'A', 'B', 'B', 'B', 'B', 'B']\n",
        "    return features, labels"
      ],
      "metadata": {
        "id": "FPDmK4v-vkb-"
      },
      "execution_count": 2,
      "outputs": []
    },
    {
      "cell_type": "code",
      "source": [
        "'''\n",
        "Print the data\n",
        "'''\n",
        "\n",
        "features, labels = create_data()\n",
        "print('features: \\n',features)\n",
        "print('labels: \\n',labels)"
      ],
      "metadata": {
        "colab": {
          "base_uri": "https://localhost:8080/"
        },
        "id": "CJUQlJj5vkis",
        "outputId": "df252d9f-572d-441a-d5e8-c89f818a35f4"
      },
      "execution_count": 3,
      "outputs": [
        {
          "output_type": "stream",
          "name": "stdout",
          "text": [
            "features: \n",
            " [[2.88 3.05]\n",
            " [3.1  2.45]\n",
            " [3.05 2.8 ]\n",
            " [2.9  2.7 ]\n",
            " [2.75 3.4 ]\n",
            " [3.23 2.9 ]\n",
            " [3.2  3.75]\n",
            " [3.5  2.9 ]\n",
            " [3.65 3.6 ]\n",
            " [3.35 3.3 ]]\n",
            "labels: \n",
            " ['A', 'A', 'A', 'A', 'A', 'B', 'B', 'B', 'B', 'B']\n"
          ]
        }
      ]
    },
    {
      "cell_type": "code",
      "source": [
        "\"\"\"\n",
        "Draw the sample data\n",
        "\"\"\"\n",
        "\n",
        "from matplotlib import pyplot as plt\n",
        "%matplotlib inline\n",
        "\n",
        "plt.figure(figsize=(5, 5))\n",
        "plt.xlim((2.4, 3.8))\n",
        "plt.ylim((2.4, 3.8))\n",
        "x_feature=list(map(lambda x:x[0],features)) # Return feature x of each data\n",
        "y_feature=list(map(lambda y:y[1],features))\n",
        "plt.scatter(x_feature[:5],y_feature[:5],c=\"b\") # Draw the data points of A\n",
        "plt.scatter(x_feature[5:],y_feature[5:],c=\"g\")\n",
        "plt.scatter([3.18],[3.15],c=\"r\",marker=\"x\") # The coordinates of the testing point: [3.1，3.2]"
      ],
      "metadata": {
        "colab": {
          "base_uri": "https://localhost:8080/",
          "height": 470
        },
        "id": "tZsxIE35vklM",
        "outputId": "ce241ce4-5d13-4066-8814-1f2fc881977e"
      },
      "execution_count": 4,
      "outputs": [
        {
          "output_type": "execute_result",
          "data": {
            "text/plain": [
              "<matplotlib.collections.PathCollection at 0x7efded3fa260>"
            ]
          },
          "metadata": {},
          "execution_count": 4
        },
        {
          "output_type": "display_data",
          "data": {
            "text/plain": [
              "<Figure size 500x500 with 1 Axes>"
            ],
            "image/png": "[encoded data removed]"
          },
          "metadata": {}
        }
      ]
    },
    {
      "cell_type": "code",
      "source": [
        "\"\"\"\n",
        "Manhattan Distance\n",
        "\"\"\"\n",
        "\n",
        "import numpy as np\n",
        "\n",
        "def d_man(x, y):\n",
        "    d = np.sum(np.abs(x - y))\n",
        "    return d\n",
        "\n",
        "x = np.array([3.1, 3.2])\n",
        "print(\"x:\", x)\n",
        "y = np.array([2.5, 2.8])\n",
        "print(\"y:\", y)\n",
        "d_man = d_man(x, y)\n",
        "print(d_man)"
      ],
      "metadata": {
        "colab": {
          "base_uri": "https://localhost:8080/"
        },
        "id": "w9EnRzsvvkn2",
        "outputId": "dd06ba25-eec6-42e0-9cd0-78f3bf953539"
      },
      "execution_count": 5,
      "outputs": [
        {
          "output_type": "stream",
          "name": "stdout",
          "text": [
            "x: [3.1 3.2]\n",
            "y: [2.5 2.8]\n",
            "1.0000000000000004\n"
          ]
        }
      ]
    },
    {
      "cell_type": "code",
      "source": [
        "\"\"\"\n",
        "Euclidean distance\n",
        "\"\"\"\n",
        "\n",
        "import numpy as np\n",
        "\n",
        "def d_euc(x, y):\n",
        "    d = np.sqrt(np.sum(np.square(x - y)))\n",
        "    return d\n",
        "\n",
        "x = np.random.random(10)  # Randomly generate an array of 10 numbers as the value of x\n",
        "print(\"x:\", x)\n",
        "y = np.random.random(10)\n",
        "print(\"y:\", y)\n",
        "distance_euc = d_euc(x, y)\n",
        "print(distance_euc)"
      ],
      "metadata": {
        "colab": {
          "base_uri": "https://localhost:8080/"
        },
        "id": "1pW4iRJSvpIi",
        "outputId": "9214aaeb-9795-45dc-93b9-88d0ecc43fed"
      },
      "execution_count": 6,
      "outputs": [
        {
          "output_type": "stream",
          "name": "stdout",
          "text": [
            "x: [0.69365692 0.44993044 0.10419903 0.06879655 0.89087762 0.57778448\n",
            " 0.54029922 0.96693234 0.8792323  0.4489572 ]\n",
            "y: [0.01670049 0.31447343 0.17484324 0.51242453 0.92341768 0.76613628\n",
            " 0.77177023 0.78576089 0.15690614 0.35370027]\n",
            "1.1542015232823344\n"
          ]
        }
      ]
    },
    {
      "cell_type": "code",
      "source": [
        "\"\"\"\n",
        "Majority voting method\n",
        "\"\"\"\n",
        "\n",
        "import operator\n",
        "\n",
        "def majority_voting(class_count):\n",
        "    sorted_class_count = sorted(class_count.items(), key=operator.itemgetter(1), reverse=True)\n",
        "    return sorted_class_count\n",
        "\n",
        "arr = {'A': 3, 'B': 2, \"C\": 6, \"D\": 5}\n",
        "majority_voting(arr)"
      ],
      "metadata": {
        "colab": {
          "base_uri": "https://localhost:8080/"
        },
        "id": "Cp76YobAvpKw",
        "outputId": "fc83ccaf-227e-41e9-e470-7f347af1fa50"
      },
      "execution_count": 7,
      "outputs": [
        {
          "output_type": "execute_result",
          "data": {
            "text/plain": [
              "[('C', 6), ('D', 5), ('A', 3), ('B', 2)]"
            ]
          },
          "metadata": {},
          "execution_count": 7
        }
      ]
    },
    {
      "cell_type": "code",
      "source": [
        "\"\"\"\n",
        "Complete realization of KNN\n",
        "\"\"\"\n",
        "\n",
        "def knn_classify(test_data, train_data, labels, k):\n",
        "    distances = np.array([])  # Create an empty array to save the distance\n",
        "    for each_data in train_data:  # Calculate data similarity using Euclidean distance\n",
        "        d = d_euc(test_data, each_data)\n",
        "        distances = np.append(distances, d)\n",
        "    sorted_distance_index = distances.argsort()  # Get the indices sorted by distance\n",
        "    sorted_distance = np.sort(distances)\n",
        "    r = (sorted_distance[k]+sorted_distance[k-1])/2  # Calculate the radius\n",
        "    class_count = {}\n",
        "    for i in range(k):  # Majority vote\n",
        "        vote_label = labels[sorted_distance_index[i]]\n",
        "        class_count[vote_label] = class_count.get(vote_label, 0) + 1\n",
        "    final_label = majority_voting(class_count)\n",
        "    return final_label, r"
      ],
      "metadata": {
        "id": "Z_wrq3ajvpNQ"
      },
      "execution_count": 8,
      "outputs": []
    },
    {
      "cell_type": "code",
      "source": [
        "test_data=np.array([3.18,3.15])\n",
        "final_label,r=knn_classify(test_data, features, labels, 5)\n",
        "final_label"
      ],
      "metadata": {
        "colab": {
          "base_uri": "https://localhost:8080/"
        },
        "id": "-NsLIPIZvpPk",
        "outputId": "b7a15fbe-cab5-47b3-902f-535a7aba761d"
      },
      "execution_count": 9,
      "outputs": [
        {
          "output_type": "execute_result",
          "data": {
            "text/plain": [
              "[('B', 3), ('A', 2)]"
            ]
          },
          "metadata": {},
          "execution_count": 9
        }
      ]
    },
    {
      "cell_type": "code",
      "source": [
        "def circle(r, a, b):  # Polar coordinates ：x=r*cosθ，y=r*sinθ.\n",
        "    theta = np.arange(0, 2*np.pi, 0.01)\n",
        "    x = a+r * np.cos(theta)\n",
        "    y = b+r * np.sin(theta)\n",
        "    return x, y\n",
        "\n",
        "k_circle_x, k_circle_y = circle(r, 3.18, 3.15)\n",
        "\n",
        "plt.figure(figsize=(5, 5))\n",
        "plt.xlim((2.4, 3.8))\n",
        "plt.ylim((2.4, 3.8))\n",
        "x_feature = list(map(lambda x: x[0], features))  # Return feature x of each data\n",
        "y_feature = list(map(lambda y: y[1], features))\n",
        "plt.scatter(x_feature[:5],y_feature[:5],c=\"b\") # Draw the data points of A\n",
        "plt.scatter(x_feature[5:],y_feature[5:],c=\"g\")\n",
        "plt.scatter([3.18],[3.15],c=\"r\",marker=\"x\") # The coordinates of the testing point: [3.1，3.2]\n",
        "plt.plot(k_circle_x, k_circle_y)"
      ],
      "metadata": {
        "colab": {
          "base_uri": "https://localhost:8080/",
          "height": 470
        },
        "id": "rAwWRa8hvuWo",
        "outputId": "7ebc45ee-db3d-49da-a95d-611ee0f33436"
      },
      "execution_count": 10,
      "outputs": [
        {
          "output_type": "execute_result",
          "data": {
            "text/plain": [
              "[<matplotlib.lines.Line2D at 0x7efdeb1c3e50>]"
            ]
          },
          "metadata": {},
          "execution_count": 10
        },
        {
          "output_type": "display_data",
          "data": {
            "text/plain": [
              "<Figure size 500x500 with 1 Axes>"
            ],
            "image/png": "[encoded data removed]"
          },
          "metadata": {}
        }
      ]
    },
    {
      "cell_type": "code",
      "source": [
        "from ipywidgets import interact, fixed\n",
        "\n",
        "def change_k(test_data, features, k):\n",
        "    final_label, r = knn_classify(test_data, features, labels, k)\n",
        "    k_circle_x, k_circle_y = circle(r, 3.18, 3.15)\n",
        "    plt.figure(figsize=(5, 5))\n",
        "    plt.xlim((2.4, 3.8))\n",
        "    plt.ylim((2.4, 3.8))\n",
        "    x_feature = list(map(lambda x: x[0], features))  # Return feature x of each data\n",
        "    y_feature = list(map(lambda y: y[1], features))\n",
        "    plt.scatter(x_feature[:5],y_feature[:5],c=\"b\") # Draw the data points of A\n",
        "    plt.scatter(x_feature[5:],y_feature[5:],c=\"g\")\n",
        "    plt.scatter([3.18],[3.15],c=\"r\",marker=\"x\") # The coordinates of the testing point: [3.1，3.2]\n",
        "    plt.plot(k_circle_x, k_circle_y)\n",
        "\n",
        "interact(change_k, test_data=fixed(test_data),\n",
        "         features=fixed(features), k=[3, 5, 7, 9])"
      ],
      "metadata": {
        "colab": {
          "base_uri": "https://localhost:8080/",
          "height": 502,
          "referenced_widgets": [
            "3b53a15b3dab405c8d52fc74179f3f7b",
            "638bd1a6d4ee417ab689e55f0e1c5922",
            "4801847f22554b7eb3f997df519f0784",
            "03434aa7fc80407981d6116b7fdacd9d",
            "6fe2043b89f9451aa13b218d29d42f05",
            "971bbf4961a845e6804f80c13d028c09",
            "e6f445f5b69c4d2683badc88ba82c6fb"
          ]
        },
        "id": "VUkOY03xvw6t",
        "outputId": "0f18ca24-55c6-4b73-9011-b15535473355"
      },
      "execution_count": 12,
      "outputs": [
        {
          "output_type": "display_data",
          "data": {
            "text/plain": [
              "interactive(children=(Dropdown(description='k', options=(3, 5, 7, 9), value=3), Output()), _dom_classes=('widg…"
            ],
            "application/vnd.jupyter.widget-view+json": {
              "version_major": 2,
              "version_minor": 0,
              "model_id": "3b53a15b3dab405c8d52fc74179f3f7b"
            }
          },
          "metadata": {}
        },
        {
          "output_type": "execute_result",
          "data": {
            "text/plain": [
              "<function __main__.change_k(test_data, features, k)>"
            ]
          },
          "metadata": {},
          "execution_count": 12
        },
        {
          "output_type": "display_data",
          "data": {
            "text/plain": [
              "<Figure size 500x500 with 1 Axes>"
            ],
            "image/png": "[encoded data removed]"
          },
          "metadata": {}
        }
      ]
    },
    {
      "cell_type": "code",
      "source": [],
      "metadata": {
        "id": "_NBItOUOvw8-"
      },
      "execution_count": 11,
      "outputs": []
    },
    {
      "cell_type": "code",
      "source": [],
      "metadata": {
        "id": "zu_h6kC9vw_A"
      },
      "execution_count": 11,
      "outputs": []
    },
    {
      "cell_type": "code",
      "source": [],
      "metadata": {
        "id": "sdqaRsWNvxBR"
      },
      "execution_count": 11,
      "outputs": []
    }
  ]
}