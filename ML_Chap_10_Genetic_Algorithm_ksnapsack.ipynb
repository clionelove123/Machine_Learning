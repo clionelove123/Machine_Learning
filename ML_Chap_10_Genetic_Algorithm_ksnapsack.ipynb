{
  "nbformat": 4,
  "nbformat_minor": 0,
  "metadata": {
    "colab": {
      "provenance": [],
      "authorship_tag": "ABX9TyPLMyAvpd8XGbABxk5Yezq2",
      "include_colab_link": true
    },
    "kernelspec": {
      "name": "python3",
      "display_name": "Python 3"
    },
    "language_info": {
      "name": "python"
    }
  },
  "cells": [
    {
      "cell_type": "markdown",
      "metadata": {
        "id": "view-in-github",
        "colab_type": "text"
      },
      "source": [
        "<a href=\"https://colab.research.google.com/github/clionelove123/Machine_Learning/blob/main/ML_Chap_10_Genetic_Algorithm_ksnapsack.ipynb\" target=\"_parent\"><img src=\"https://colab.research.google.com/assets/colab-badge.svg\" alt=\"Open In Colab\"/></a>"
      ]
    },
    {
      "cell_type": "code",
      "execution_count": null,
      "metadata": {
        "id": "g4EXQRVrNCeP"
      },
      "outputs": [],
      "source": [
        "# Reference: https://github.com/megics/knapsack-GA/tree/master (Meliha Gizem ÇELİK 2018)\n",
        "\n",
        "import math\n",
        "import matplotlib.pyplot as plt\n",
        "import random"
      ]
    },
    {
      "cell_type": "code",
      "source": [
        "weightList=[31,5,1,36,36,25,38,29,38,26,46,10,32,15,31,23,7,32,23,40,31,41,33,23,1,41,47,33,10,16,28,36,41,26,49,25,47,26,37,9,35,14,34,15,20,49,49,15,39,5,8,30,39,35,11,32,24,19,28,45,41,24,50,46,47,47,16,28,43,3]\n",
        "valueList=[18,45,32,36,11,30,11,39,10,29,42,9,48,34,1,37,26,21,19,40,6,2,17,10,36,37,6,41,5,27,23,9,43,33,29,34,12,37,48,31,5,49,48,16,8,7,27,50,2,44,42,46,5,32,15,15,29,43,25,7,42,35,29,48,7,21,29,9,3,38]\n",
        "populationSize=10\n",
        "k=8\n",
        "m=0.01\n",
        "iteration=2000\n",
        "bagSize = 700\n",
        "\n",
        "init_usage_rate=0.001\n",
        "penalty_rate=5\n"
      ],
      "metadata": {
        "id": "Yoi2zRJqOIBE"
      },
      "execution_count": null,
      "outputs": []
    },
    {
      "cell_type": "code",
      "source": [
        "### create population method ###\n",
        "def initialise():\n",
        "\tperson = \"\"\n",
        "\tpersonList = []\n",
        "\tfor x in range(populationSize):\n",
        "\t\tfor z in range(len(weightList)):\n",
        "\t\t\tif(random.random() < init_usage_rate):\n",
        "\t\t\t\tperson += \"1\"\n",
        "\t\t\telse:\n",
        "\t\t\t\tperson += \"0\"\n",
        "\t\tpersonList.append(person)\n",
        "\t\tperson = \"\"\n",
        "\treturn personList\n"
      ],
      "metadata": {
        "id": "Yz5WTQomNOiu"
      },
      "execution_count": null,
      "outputs": []
    },
    {
      "cell_type": "code",
      "source": [
        "### create fitness values list for population in this method ###\n",
        "def evaluate(pList):\n",
        "\tsumWeight=0\n",
        "\tsumValue=0\n",
        "\tfitnessList = []\n",
        "\tfor i in range(len(pList)):\n",
        "\t\tfor j in range(len(pList[i])):\n",
        "\t\t\tif(pList[i][j] == \"1\"):\n",
        "\t\t\t\tsumWeight += int(weightList[j])\n",
        "\t\t\t\tsumValue += int(valueList[j])\n",
        "\t\tif(sumWeight <= bagSize):\n",
        "\t\t\tfitnessList.append((pList[i],sumValue))\n",
        "\t\telse:\n",
        "#\t\t\tfitnessList.append((pList[i],0))\n",
        "\t\t\tfitnessList.append((pList[i],(sumValue - (sumWeight - bagSize) * penalty_rate)))\n",
        "\t\tsumWeight=0\n",
        "\t\tsumValue=0\n",
        "\treturn fitnessList"
      ],
      "metadata": {
        "id": "Wzjr7UGgNOlK"
      },
      "execution_count": null,
      "outputs": []
    },
    {
      "cell_type": "code",
      "source": [
        "### using tournament select algorithm for parent select in this method ###\n",
        "def parentSelect(fList):\n",
        "\ttempList = []\n",
        "\tparentSelectList = []\n",
        "\tfor i in range(len(fList)):\n",
        "\t\tfor j in range(int(k)):\n",
        "\t\t\tindex = math.ceil(random.random()*len(fList))-1\n",
        "\t\t\ttempList.append(fList[index])\n",
        "\t\ttempList.sort()\n",
        "\t\tparentSelectList.append(tempList[0])\n",
        "\t\ttempList = []\n",
        "\treturn parentSelectList"
      ],
      "metadata": {
        "id": "1d6_pOuyNOnQ"
      },
      "execution_count": null,
      "outputs": []
    },
    {
      "cell_type": "code",
      "source": [
        "### recombine parents and create child list in this method ###\n",
        "def recombine(pList):\n",
        "\tchildList = []\n",
        "\tfor i in range(int(len(pList)/2)):\n",
        "\t\tindex = math.ceil(random.random()*len(weightList))-1\n",
        "\t\tc1=pList[i][0][:index]+pList[i+1][0][index:]\n",
        "\t\tc2=pList[i+1][0][:index]+pList[i][0][index:]\n",
        "\t\tchildList.append(c1)\n",
        "\t\tchildList.append(c2)\n",
        "\treturn childList"
      ],
      "metadata": {
        "id": "8ia2Pp2_Nfj_"
      },
      "execution_count": null,
      "outputs": []
    },
    {
      "cell_type": "code",
      "source": [
        "### mutation apply the child list and create mutation list in this method ###\n",
        "def mutation(cList):\n",
        "\tmutationList = []\n",
        "\tfor i in range(len(childList)):\n",
        "\t\tfor j in range(len(weightList)):\n",
        "\t\t\tif(random.random() < m):\n",
        "\t\t\t\t\ttemp = list(childList[i])\n",
        "\t\t\t\t\ttemp[j] = str(((int(temp[j])+1) % 2))\n",
        "\t\t\t\t\tchildList[i] = \"\".join(temp)\n",
        "\n",
        "#\t\t\t\tif(childList[i][j]==\"0\"):\n",
        "#\t\t\t\t\ttemp = list(childList[i])\n",
        "#\t\t\t\t\ttemp[j] = \"1\"\n",
        "#\t\t\t\t\tchildList[i] = \"\".join(temp)\n",
        "#\t\t\t\telse:\n",
        "#\t\t\t\t\ttemp = list(childList[i])\n",
        "#\t\t\t\t\ttemp[j] = \"0\"\n",
        "#\t\t\t\t\tchildList[i] = \"\".join(temp)\n",
        "\n",
        "\t\tmutationList.append(childList[i])\n",
        "\n",
        "\treturn mutationList"
      ],
      "metadata": {
        "id": "O1vPVwaCNgs5"
      },
      "execution_count": null,
      "outputs": []
    },
    {
      "cell_type": "code",
      "source": [
        "### choose the best childrens in this method ###\n",
        "def survivorSelect(cList, pList):\n",
        "\tchildEva = evaluate(cList)\n",
        "\teva = list(childEva + pList)\n",
        "\teva.sort(key=lambda srt: srt[1],reverse=True)\n",
        "\n",
        "\treturn eva[:len(pList)]"
      ],
      "metadata": {
        "id": "FWdvCIj1NgvR"
      },
      "execution_count": null,
      "outputs": []
    },
    {
      "cell_type": "code",
      "source": [
        "i = 0\n",
        "minList = []\n",
        "maxList = []\n",
        "avg = 0\n",
        "avgList = []\n",
        "itList = range(iteration)\n",
        "\n",
        "populationList=initialise()\n",
        "print(populationList[0])\n",
        "fitnessList=evaluate(populationList)\n",
        "\n",
        "fit_pre=0\n",
        "\n",
        "while(i < iteration):\n",
        "  avg = 0\n",
        "  parentSelectedList = parentSelect(fitnessList)\n",
        "  childList = recombine(parentSelectedList)\n",
        "  mutationList = mutation(childList)\n",
        "  survivorList = survivorSelect(mutationList,fitnessList)\n",
        "\n",
        "  for j in range(len(survivorList)):\n",
        "    avg += int(survivorList[j][1])\n",
        "\n",
        "  avgList.append(avg/len(survivorList))\n",
        "  minList.append(min(survivorList,key=lambda srt: srt[1])[1])\n",
        "  maxList.append(max(survivorList,key=lambda srt: srt[1])[1])\n",
        "  fitnessList = survivorList\n",
        "  i += 1\n",
        "  if fit_pre!=survivorList[0][1]:\n",
        "    print(i,survivorList[0])\n",
        "  fit_pre=survivorList[0][1]\n",
        "\n",
        "print(survivorList)\n",
        "\n",
        "### display graphic for min, max and average values ###\n",
        "plt.plot(itList,minList,'o-',c='blue')\n",
        "plt.plot(itList,avgList,'s-',c='red')\n",
        "plt.plot(itList,maxList,'o-',c='brown')\n",
        "plt.grid(True)\n",
        "plt.xlabel('Iterator')\n",
        "plt.ylabel('Fitness')\n",
        "plt.legend([\"min\",\"avg\",\"max\"])\n",
        "plt.show()"
      ],
      "metadata": {
        "colab": {
          "base_uri": "https://localhost:8080/",
          "height": 1000
        },
        "id": "OZjqnqR6Ngxq",
        "outputId": "b0db2ccd-8678-4338-89fb-7be9676be44c"
      },
      "execution_count": null,
      "outputs": [
        {
          "output_type": "stream",
          "name": "stdout",
          "text": [
            "0000000000000000000000000000000000000000000000000000000000000000000000\n",
            "1 ('0000000000010000000000000000000000000010000000000000000000000000000000', 57)\n",
            "2 ('0000000000000000000000011000000000000000000000000000000000001000000100', 97)\n",
            "4 ('0000001000000000000000000000000000000000010100010000000000000000000000', 126)\n",
            "5 ('0000000000000000000000000000000010000000000100010010010000000000000000', 183)\n",
            "7 ('0000000100000000000000100000000000110000000100010000000000000000000000', 185)\n",
            "9 ('0000000000000000000000000000000000100000000111010100010000000001000000', 234)\n",
            "10 ('0000000000100000000000000000000001101000000100010100010000000000000000', 258)\n",
            "12 ('0000000000000000000000000000000000100000000100010100010001001000010000', 277)\n",
            "13 ('0000000000000000000000000000000000100000001100010100010000001000110000', 289)\n",
            "14 ('0000000000000000000000000000000000110000000100010100010001001100010000', 346)\n",
            "16 ('0000000000000100000000000000000000100001001100010100010000001000110001', 392)\n",
            "17 ('0000000000000000000000000001000000110000000100010100010001001001010000', 400)\n",
            "18 ('0010000000000001000000000000000000110000000100010100010001001001010000', 428)\n",
            "21 ('0000000000000000000000001000000000110000000100010100010001001011010001', 462)\n",
            "23 ('0000000000000000000000000100000000110000000100011100010001001011010001', 465)\n",
            "24 ('0000000000000000000000000000000000110000001100010100010001001011001001', 482)\n",
            "25 ('0100000000000000000000100000000000110000000100110100010001101011001001', 548)\n",
            "31 ('0000000000000000000000100100000000110000001100010100011001001011001001', 551)\n",
            "32 ('0100000000000000000001000000000000110000001100010100011001001111001001', 579)\n",
            "34 ('1000000000000000000000001000000000110000001100010100011001001111001001', 586)\n",
            "35 ('0000000000001000000000001000000000110000001100010100011001001111001001', 616)\n",
            "37 ('0000000000100000000000001000000000110000001100010110011011001111001001', 681)\n",
            "38 ('0000000000000000000000101000000000110000011100010101011011001111001001', 709)\n",
            "40 ('0000000000100000000000101000000000110000011100010101011011001111001001', 751)\n",
            "42 ('0000010000000000000000101000010000111000011100010101011011001111001001', 778)\n",
            "43 ('0000000000000000010000101000010001111000011100010101011011011111001001', 809)\n",
            "45 ('0000000000100100000000101000000001111000011100010101011011001111001001', 830)\n",
            "47 ('0000000000000000010000101000010011111100011100010101011011001111001001', 882)\n",
            "53 ('0010000000000000000000101000000001111100011100110101011111101111001001', 890)\n",
            "63 ('0000000000000000000000001000010001111100011100110111011111101111001001', 910)\n",
            "65 ('0010000000000000000000001000000001111100011100110111011111101111001001', 915)\n",
            "75 ('0010000000000000000000001000000001111101011100110111011111101111001001', 946)\n",
            "86 ('0100000000000000000000001000000011111101011100110111011101101111001001', 953)\n",
            "110 ('0100000000000000000000001000010001111101011100110111011111101111001001', 971)\n",
            "130 ('0100000000000000100000001000010001111101011000110111011111101111001001', 996)\n",
            "149 ('0100000000000000100100001000110001011111011000110111001111101111001001', 1028)\n",
            "158 ('0100000000000001100000001000110001011111011000110111011111001111001001', 1032)\n",
            "188 ('0100000000000100101000001000110001011111011000110111011111001111001001', 1033)\n",
            "194 ('0100000000000100101000001000110001010111011000110111011111001111001001', 1036)\n",
            "200 ('0011000000000100100000001000110001011111011000110111011111101101001001', 1048)\n",
            "213 ('0011000000000100100000001100110001010111011000110111011111001101001101', 1057)\n",
            "226 ('0111000000000100100000001000110001011111011000110111011111101101001001', 1093)\n",
            "291 ('0111000000000100100000001100110001010111011000110111011111001101001101', 1102)\n",
            "313 ('0111000000100100100000001100010001010111011000110111011111001101001001', 1130)\n",
            "327 ('0111000000001101100000001100010001010111011000110111011111001101001001', 1143)\n",
            "398 ('0111000000000101100000001101110001010111011000010111011111101101001001', 1169)\n",
            "637 ('0110000000011101100000001101010011010101011000010111011111101101001001', 1180)\n",
            "638 ('0110000000011100100000011101010011010111011000010111011011101101001001', 1181)\n",
            "819 ('0110000000011101100000011101010011010111011000010111011011001101001001', 1198)\n",
            "1320 ('0110000100011101100000011101010011010011011000010111011011001101001001', 1200)\n",
            "1427 ('0110000100011101100000011101010011010111011000010111011001001101001001', 1203)\n",
            "1611 ('0110000100011101100000001101010011010111011000010111011011001101001001', 1217)\n",
            "1727 ('0110000100001101100000001101010011010111011000010111011011001101001001', 1218)\n",
            "[('0110000100001101100000001101010011010111011000010111011011001101001001', 1218), ('0110000100001101100000001101010011010111011000010111011011001101001001', 1218), ('0110000100001101100000001101010011010111011000010111011011001101001001', 1218), ('0110000100001101100000001101010011010111011000010111011011001101001001', 1218), ('0110000100001101100000001101010011010111011000010111011011001101001001', 1218), ('0110000100001101100000001101010011010111011000010111011011001101001001', 1218), ('0110000100001101100000001101010011010111011000010111011011001101001001', 1218), ('0110000100001101100000001101010011010111011000010111011011001101001001', 1218), ('0110000100001101100000001101010011010111011000010111011011001101001001', 1218), ('0110000100001101100000001101010011010111011000010111011011001101001001', 1218)]\n"
          ]
        },
        {
          "output_type": "display_data",
          "data": {
            "text/plain": [
              "<Figure size 640x480 with 1 Axes>"
            ],
            "image/png": "[encoded data removed]"
          },
          "metadata": {}
        }
      ]
    }
  ]
}