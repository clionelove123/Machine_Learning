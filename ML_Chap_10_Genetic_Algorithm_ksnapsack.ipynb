{
  "nbformat": 4,
  "nbformat_minor": 0,
  "metadata": {
    "colab": {
      "provenance": [],
      "authorship_tag": "ABX9TyOlcuc8L6ZiZBuTZPwgVAN+",
      "include_colab_link": true
    },
    "kernelspec": {
      "name": "python3",
      "display_name": "Python 3"
    },
    "language_info": {
      "name": "python"
    }
  },
  "cells": [
    {
      "cell_type": "markdown",
      "metadata": {
        "id": "view-in-github",
        "colab_type": "text"
      },
      "source": [
        "<a href=\"https://colab.research.google.com/github/clionelove123/Machine_Learning/blob/main/ML_Chap_10_Genetic_Algorithm_ksnapsack.ipynb\" target=\"_parent\"><img src=\"https://colab.research.google.com/assets/colab-badge.svg\" alt=\"Open In Colab\"/></a>"
      ]
    },
    {
      "cell_type": "code",
      "execution_count": 268,
      "metadata": {
        "id": "g4EXQRVrNCeP"
      },
      "outputs": [],
      "source": [
        "# Reference: https://github.com/megics/knapsack-GA/blob/master/knapsack.py (Meliha Gizem ÇELİK, 2018)\n",
        "\n",
        "import math\n",
        "import matplotlib.pyplot as plt"
      ]
    },
    {
      "cell_type": "code",
      "source": [
        "weightList=[31,5,1,36,36,25,38,29,38,26,46,10,32,15,31,23,7,32,23,40,31,41,33,23,1,41,47,33,10,16,28,36,41,26,49,25,47,26,37,9,35,14,34,15,20,49,49,15,39,5,8,30,39,35,11,32,24,19,28,45,41,24,50,46,47,47,16,28,43,3]\n",
        "valueList=[18,45,32,36,11,30,11,39,10,29,42,9,48,34,1,37,26,21,19,40,6,2,17,10,36,37,6,41,5,27,23,9,43,33,29,34,12,37,48,31,5,49,48,16,8,7,27,50,2,44,42,46,5,32,15,15,29,43,25,7,42,35,29,48,7,21,29,9,3,38]\n",
        "randomList=[0.21,0.68,0.84,0.84,0.93,0.49,0.43,0.82,0.87,0.48,0.15,0.76,0.84,0.3,0.73,0.84,0.39,0.92,0.89,0.7,0.45,0.39,0.11,0.9,0.92,0.91,0.87,0.41,0.37,0.97,0.14,0.52,0.96,0.2,0.36,0.45,0.66,0,0.37,0.58,0.39,0.46,0.93,0.13,0.26,0.28,0.21,0.8,0.28,0.93,0.14,0.66,0.62,0.4,0.5,0.38,0.96,0.52,0.17,0.28,0.15,0.98,0.21,0.3,0.81,0.69,0.34,0.1,0.33,0.93]\n",
        "populationSize=50\n",
        "k=4\n",
        "m=0.4\n",
        "iteration=50\n",
        "bagSize=1500\n"
      ],
      "metadata": {
        "id": "Yoi2zRJqOIBE"
      },
      "execution_count": 269,
      "outputs": []
    },
    {
      "cell_type": "code",
      "source": [
        "print(randomList)\n",
        "print(weightList)\n",
        "print(valueList)"
      ],
      "metadata": {
        "colab": {
          "base_uri": "https://localhost:8080/"
        },
        "id": "ozEJUd2fRZZM",
        "outputId": "a71a905f-f124-47de-8d55-a6cf7a65ade3"
      },
      "execution_count": 270,
      "outputs": [
        {
          "output_type": "stream",
          "name": "stdout",
          "text": [
            "[0.21, 0.68, 0.84, 0.84, 0.93, 0.49, 0.43, 0.82, 0.87, 0.48, 0.15, 0.76, 0.84, 0.3, 0.73, 0.84, 0.39, 0.92, 0.89, 0.7, 0.45, 0.39, 0.11, 0.9, 0.92, 0.91, 0.87, 0.41, 0.37, 0.97, 0.14, 0.52, 0.96, 0.2, 0.36, 0.45, 0.66, 0, 0.37, 0.58, 0.39, 0.46, 0.93, 0.13, 0.26, 0.28, 0.21, 0.8, 0.28, 0.93, 0.14, 0.66, 0.62, 0.4, 0.5, 0.38, 0.96, 0.52, 0.17, 0.28, 0.15, 0.98, 0.21, 0.3, 0.81, 0.69, 0.34, 0.1, 0.33, 0.93]\n",
            "[31, 5, 1, 36, 36, 25, 38, 29, 38, 26, 46, 10, 32, 15, 31, 23, 7, 32, 23, 40, 31, 41, 33, 23, 1, 41, 47, 33, 10, 16, 28, 36, 41, 26, 49, 25, 47, 26, 37, 9, 35, 14, 34, 15, 20, 49, 49, 15, 39, 5, 8, 30, 39, 35, 11, 32, 24, 19, 28, 45, 41, 24, 50, 46, 47, 47, 16, 28, 43, 3]\n",
            "[18, 45, 32, 36, 11, 30, 11, 39, 10, 29, 42, 9, 48, 34, 1, 37, 26, 21, 19, 40, 6, 2, 17, 10, 36, 37, 6, 41, 5, 27, 23, 9, 43, 33, 29, 34, 12, 37, 48, 31, 5, 49, 48, 16, 8, 7, 27, 50, 2, 44, 42, 46, 5, 32, 15, 15, 29, 43, 25, 7, 42, 35, 29, 48, 7, 21, 29, 9, 3, 38]\n"
          ]
        }
      ]
    },
    {
      "cell_type": "code",
      "source": [
        "### create population method ###\n",
        "def initialise():\n",
        "\tperson = \"\"\n",
        "\tpersonList = []\n",
        "\tglobal randCount\n",
        "\tfor x in range(populationSize):\n",
        "\t\tfor z in range(len(weightList)):\n",
        "\t\t\tif(randCount == len(randomList)):\n",
        "\t\t\t\trandCount=0\n",
        "\t\t\tif(float(randomList[randCount%len(randomList)]) < 0.001):\n",
        "\t\t\t\tperson += \"1\"\n",
        "\t\t\telse:\n",
        "\t\t\t\tperson += \"0\"\n",
        "\n",
        "\t\t\trandCount+=1\n",
        "\t\tpersonList.append(person)\n",
        "\t\tperson = \"\"\n",
        "\treturn personList\n"
      ],
      "metadata": {
        "id": "Yz5WTQomNOiu"
      },
      "execution_count": 271,
      "outputs": []
    },
    {
      "cell_type": "code",
      "source": [
        "### create fitness values list for population in this method ###\n",
        "def evaluate(pList):\n",
        "\tsumWeight=0\n",
        "\tsumValue=0\n",
        "\tfitnessList = []\n",
        "\tfor i in range(len(pList)):\n",
        "\t\tfor j in range(len(pList[i])):\n",
        "\t\t\tif(pList[i][j] == \"1\"):\n",
        "\t\t\t\tsumWeight += int(weightList[j])\n",
        "\t\t\t\tsumValue += int(valueList[j])\n",
        "\t\tif(sumWeight <= bagSize):\n",
        "\t\t\tfitnessList.append((pList[i],sumValue))\n",
        "\t\telse:\n",
        "\t\t\tfitnessList.append((pList[i],0))\n",
        "\t\tsumWeight=0\n",
        "\t\tsumValue=0\n",
        "\treturn fitnessList"
      ],
      "metadata": {
        "id": "Wzjr7UGgNOlK"
      },
      "execution_count": 272,
      "outputs": []
    },
    {
      "cell_type": "code",
      "source": [
        "### using tournament select algorithm for parent select in this method ###\n",
        "def parentSelect(fList):\n",
        "\ttempList = []\n",
        "\tparentSelectList = []\n",
        "\tglobal randCount\n",
        "\tfor i in range(len(fList)):\n",
        "\t\tfor j in range(int(k)):\n",
        "\t\t\tif(randCount == len(randomList)):\n",
        "\t\t\t\trandCount=0\n",
        "\t\t\tindex = math.ceil(float(randomList[randCount%len(randomList)])*len(fList))-1\n",
        "\t\t\ttempList.append(fList[index])\n",
        "\t\t\trandCount+=1\n",
        "\t\ttempList.sort()\n",
        "\t\tparentSelectList.append(tempList[0])\n",
        "\t\ttempList = []\n",
        "\treturn parentSelectList"
      ],
      "metadata": {
        "id": "1d6_pOuyNOnQ"
      },
      "execution_count": 273,
      "outputs": []
    },
    {
      "cell_type": "code",
      "source": [
        "### recombine parents and create child list in this method ###\n",
        "def recombine(pList):\n",
        "\tchildList = []\n",
        "\tglobal randCount\n",
        "\tfor i in range(int(len(pList)/2)):\n",
        "\t\tif(randCount == len(randomList)):\n",
        "\t\t\trandCount=0\n",
        "\t\tindex = math.ceil(float(randomList[randCount%len(randomList)])*len(weightList))-1\n",
        "\t\trandCount+=1\n",
        "\t\tc1=pList[i][0][:index]+pList[i+1][0][index:]\n",
        "\t\tc2=pList[i+1][0][:index]+pList[i][0][index:]\n",
        "\t\tchildList.append(c1)\n",
        "\t\tchildList.append(c2)\n",
        "\treturn childList"
      ],
      "metadata": {
        "id": "8ia2Pp2_Nfj_"
      },
      "execution_count": 274,
      "outputs": []
    },
    {
      "cell_type": "code",
      "source": [
        "### mutation apply the child list and create mutation list in this method ###\n",
        "def mutation(cList):\n",
        "\tmutationList = []\n",
        "\tglobal randCount\n",
        "\tfor i in range(len(childList)):\n",
        "\t\tfor j in range(len(weightList)):\n",
        "\t\t\tif(randCount == len(randomList)):\n",
        "\t\t\t\trandCount=0\n",
        "\t\t\tif(float(randomList[randCount%len(randomList)]) < m):\n",
        "\t\t\t\tif(childList[i][j]==\"0\"):\n",
        "\t\t\t\t\ttemp = list(childList[i])\n",
        "\t\t\t\t\ttemp[j] = \"1\"\n",
        "\t\t\t\t\tchildList[i] = \"\".join(temp)\n",
        "\t\t\t\telse:\n",
        "\t\t\t\t\ttemp = list(childList[i])\n",
        "\t\t\t\t\ttemp[j] = \"0\"\n",
        "\t\t\t\t\tchildList[i] = \"\".join(temp)\n",
        "\t\t\trandCount+=1\n",
        "\t\tmutationList.append(childList[i])\n",
        "\n",
        "\treturn mutationList"
      ],
      "metadata": {
        "id": "O1vPVwaCNgs5"
      },
      "execution_count": 275,
      "outputs": []
    },
    {
      "cell_type": "code",
      "source": [
        "### choose the best childrens in this method ###\n",
        "def survivorSelect(cList, pList):\n",
        "\tchildEva = evaluate(cList)\n",
        "\teva = list(childEva + pList)\n",
        "\teva.sort(key=lambda srt: srt[1],reverse=True)\n",
        "\n",
        "\treturn eva[:len(pList)]"
      ],
      "metadata": {
        "id": "FWdvCIj1NgvR"
      },
      "execution_count": 276,
      "outputs": []
    },
    {
      "cell_type": "code",
      "source": [
        "i = 0\n",
        "minList = []\n",
        "maxList = []\n",
        "avg = 0\n",
        "avgList = []\n",
        "itList = range(iteration)\n",
        "\n",
        "populationList=initialise()\n",
        "fitnessList=evaluate(populationList)\n",
        "\n",
        "while(i < iteration):\n",
        "  avg = 0\n",
        "  parentSelectedList = parentSelect(fitnessList)\n",
        "  childList = recombine(parentSelectedList)\n",
        "  mutationList = mutation(childList)\n",
        "  survivorList = survivorSelect(mutationList,fitnessList)\n",
        "\n",
        "  for j in range(len(survivorList)):\n",
        "    avg += int(survivorList[j][1])\n",
        "\n",
        "  avgList.append(avg/len(survivorList))\n",
        "  minList.append(min(survivorList,key=lambda srt: srt[1])[1])\n",
        "  maxList.append(max(survivorList,key=lambda srt: srt[1])[1])\n",
        "  fitnessList = survivorList\n",
        "  i += 1\n",
        "#  print(survivorList)\n",
        "\n",
        "print(survivorList)\n",
        "\n",
        "### display graphic for min, max and average values ###\n",
        "plt.plot(itList,minList,'o-',c='blue')\n",
        "plt.plot(itList,avgList,'s-',c='red')\n",
        "plt.plot(itList,maxList,'o-',c='brown')\n",
        "plt.grid(True)\n",
        "plt.xlabel('Iterator')\n",
        "plt.ylabel('Fitness')\n",
        "plt.legend([\"min\",\"avg\",\"max\"])\n",
        "plt.show()"
      ],
      "metadata": {
        "colab": {
          "base_uri": "https://localhost:8080/",
          "height": 487
        },
        "id": "OZjqnqR6Ngxq",
        "outputId": "8b042563-beb2-459d-d9d7-7599a1e0c507"
      },
      "execution_count": 277,
      "outputs": [
        {
          "output_type": "stream",
          "name": "stdout",
          "text": [
            "[('1101111111101110111011011111011111010101011110100000111110111101101001', 1270), ('1101111111101110111011011111011111010101011110100000111110111101101001', 1270), ('1101111111101110111011011111011111010101011110100000111110111101101001', 1270), ('1101111111101110111011011111011111010101011110100000111110111101101001', 1270), ('1101111111101110111011011111011111010101011110100000111110111101101001', 1270), ('1101111111101110111011011111011111010101011110100000111110111101101001', 1270), ('1101111111101110111011011111011111010101011110100000111110111101101001', 1270), ('1101111111101110111011011111011111010101011110100000111110111101101001', 1270), ('1101111111101110111011011111011111010101011110100000111110111101101001', 1270), ('1101111111101110111011011111011111010101011110100000111110111101101001', 1270), ('1101111111101110111011011111011111010101011110100000111110111101101001', 1270), ('1101111111101110111011011111011111010101011110100000111110111101101001', 1270), ('1101111111101110111011011111011111010101011110100000111110111101101001', 1270), ('1101111111101110111011011111011111010101011110100000111110111101101001', 1270), ('1101111111101110111011011111011111010101011110100000111110111101101001', 1270), ('1101111111101110111011011111011111010101011110100000111110111101101001', 1270), ('1101111111101110111011011111011111010101011110100000111110111101101001', 1270), ('1101111111101110111011011111011111010101011110100000111110111101101001', 1270), ('1101111111101110111011011111011111010101011110100000111110111101101001', 1270), ('1101111111101110111011011111011111010101011110100000111110111101101001', 1270), ('1101111111101110111011011111011111010101011110100000111110111101101001', 1270), ('1101111111101110111011011111011111010101011110100000111110111101101001', 1270), ('1101111111101110111011011111011111010101011110100000111110111101101001', 1270), ('1101111111101110111011011111011111010101011110100000111110111101101001', 1270), ('1101111111101110111011011111011111010101011110100000111110111101101001', 1270), ('1101111111101110111011011111011111010101011110100000111110111101101001', 1270), ('1101111111101110111011011111011111010101011110100000111110111101101001', 1270), ('1101111111101110111011011111011111010101011110100000111110111101101001', 1270), ('1101111111101110111011011111011111010101011110100000111110111101101001', 1270), ('1101111111101110111011011111011111010101011110100000111110111101101001', 1270), ('1101111111101110111011011111011111010101011110100000111110111101101001', 1270), ('1101111111101110111011011111011111010101011110100000111110111101101001', 1270), ('1101111111101110111011011111011111010101011110100000111110111101101001', 1270), ('1101111111101110111011011111011111010101011110100000111110111101101001', 1270), ('1101111111101110111011011111011111010101011110100000111110111101101001', 1270), ('1101111111101110111011011111011111010101011110100000111110111101101001', 1270), ('1101111111101110111011011111011111010101011110100000111110111101101001', 1270), ('1101111111101110111011011111011111010101011110100000111110111101101001', 1270), ('1101111111101110111011011111011111010101011110100000111110111101101001', 1270), ('1101111111101110111011011111011111010101011110100000111110111101101001', 1270), ('1101111111101110111011011111011111010101011110100000111110111101101001', 1270), ('1101111111101110111011011111011111010101011110100000111110111101101001', 1270), ('1101111111101110111011011111011111010101011110100000111110111101101001', 1270), ('1101111111101110111011011111011111010101011110100000111110111101101001', 1270), ('1101111111101110111011011111011111010101011110100000111110111101101001', 1270), ('1101111111101110111011011111011111010101011110100000111110111101101001', 1270), ('1101111111101110111011011111011111010101011110100000111110111101101001', 1270), ('1101111111101110111011011111011111010101011110100000111110111101101001', 1270), ('1101111111101110111011011111011111010101011110100000111110111101101001', 1270), ('1101111111101110111011011111011111010101011110100000111110111101101001', 1270)]\n"
          ]
        },
        {
          "output_type": "display_data",
          "data": {
            "text/plain": [
              "<Figure size 640x480 with 1 Axes>"
            ],
            "image/png": "[encoded data removed]"
          },
          "metadata": {}
        }
      ]
    }
  ]
}