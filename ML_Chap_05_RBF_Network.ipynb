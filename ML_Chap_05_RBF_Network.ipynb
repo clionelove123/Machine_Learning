{
  "nbformat": 4,
  "nbformat_minor": 0,
  "metadata": {
    "colab": {
      "provenance": [],
      "authorship_tag": "ABX9TyPiQqQ6GDoiJ+7F45+5rJIq",
      "include_colab_link": true
    },
    "kernelspec": {
      "name": "python3",
      "display_name": "Python 3"
    },
    "language_info": {
      "name": "python"
    }
  },
  "cells": [
    {
      "cell_type": "markdown",
      "metadata": {
        "id": "view-in-github",
        "colab_type": "text"
      },
      "source": [
        "<a href=\"https://colab.research.google.com/github/clionelove123/Machine_Learning/blob/main/ML_Chap_05_RBF_Network.ipynb\" target=\"_parent\"><img src=\"https://colab.research.google.com/assets/colab-badge.svg\" alt=\"Open In Colab\"/></a>"
      ]
    },
    {
      "cell_type": "code",
      "execution_count": 50,
      "metadata": {
        "id": "-mwx4DRe6LV_"
      },
      "outputs": [],
      "source": [
        "# Code Reference: https://github.com/artisan1218/RBF-Network/blob/main/RBF_Network.ipynb\n",
        "\n",
        "import matplotlib.pyplot as plt\n",
        "import numpy as np\n",
        "import math\n",
        "import random\n",
        "import statistics as stat"
      ]
    },
    {
      "cell_type": "code",
      "source": [
        "def generate_data_points(num_data_points):\n",
        "  y_list = []\n",
        "  desired_y_list = []\n",
        "  x_list = []\n",
        "\n",
        "  for i in range(num_data_points):\n",
        "    x = np.random.uniform(0.0, 1.0)\n",
        "    x_list.append(x)\n",
        "    y = 0.5 + 0.4 * math.sin(3 * math.pi * x) + np.exp (0.5 * x)\n",
        "    noise = np.random.uniform(-0.2, 0.2)\n",
        "    y_noise = y + noise\n",
        "    y_list.append(y_noise)\n",
        "    desired_y_list.append(y)\n",
        "  return x_list, y_list, desired_y_list\n",
        "\n",
        "x_list, y_list, desired_y_list = generate_data_points(75)\n",
        "data = np.array([x_list, y_list])\n",
        "\n",
        "#print(data)\n",
        "#print(data[0][0])\n",
        "\n",
        "clusters_x = np.random.choice(np.squeeze(data[0]), size=1)\n",
        "clusters_y = np.random.choice(np.squeeze(data[1]), size=1)\n",
        "clusters = np.array([clusters_x, clusters_y])\n",
        "\n",
        "plt.plot(x_list, y_list, 'ro')"
      ],
      "metadata": {
        "id": "XEqP8jN-6bZ0",
        "colab": {
          "base_uri": "https://localhost:8080/",
          "height": 448
        },
        "outputId": "93dd3640-e3f2-4367-d164-3a82e59cb7e8"
      },
      "execution_count": 51,
      "outputs": [
        {
          "output_type": "execute_result",
          "data": {
            "text/plain": [
              "[<matplotlib.lines.Line2D at 0x7bf1f0e1ee60>]"
            ]
          },
          "metadata": {},
          "execution_count": 51
        },
        {
          "output_type": "display_data",
          "data": {
            "text/plain": [
              "<Figure size 640x480 with 1 Axes>"
            ],
            "image/png": "[encoded data removed]"
          },
          "metadata": {}
        }
      ]
    },
    {
      "cell_type": "code",
      "source": [
        "'''\n",
        "implementation of k-means\n",
        "'''\n",
        "def kmeans(data, num_clusters):\n",
        "  # randomly generate num_clusters clusters from the data point\n",
        "  clusters_x = np.random.choice(np.squeeze(data[0]), size=num_clusters)\n",
        "  clusters_y = np.random.choice(np.squeeze(data[1]), size=num_clusters)\n",
        "  clusters = np.array([clusters_x, clusters_y])\n",
        "  prev_clusters = clusters.copy()\n",
        "  variance = np.zeros(num_clusters) # initialize all variance to zero\n",
        "  converged = False\n",
        "  all_same_variance = 0\n",
        "\n",
        "  dp, num_clusters = (len(data[0]), num_clusters) # distance is a 2d array, x axis is the data point, y axis is the cluster\n",
        "  # distance[i][j][0] means the squared distance from the ith data point to jth cluster\n",
        "  # distance[i][j][1] means the x axis of that the i data point\n",
        "  # distance[i][j][2] means the y axis of that the i data point\n",
        "  distance = np.array([[[0.0, 0.0, 0.0] for i in range(dp)] for j in range(num_clusters)])\n",
        "\n",
        "  while not converged:\n",
        "    # compute the distance from each data point to each clusters and store it in a 2darray\n",
        "    for i in range(num_clusters): # for all the clusters\n",
        "      cluster = [clusters[0][i], clusters[1][i]] # get one cluster\n",
        "      for j in range(len(data[0])): # for all the data point\n",
        "        dp = [data[0][j], data[1][j]] # get one dp\n",
        "        squared_distance = (cluster[0] - dp[0])**2 + (cluster[1] - dp[1])**2\n",
        "        all_same_variance += squared_distance\n",
        "        distance[i][j][0] = squared_distance\n",
        "        distance[i][j][1] = dp[0] # x coordinate\n",
        "        distance[i][j][2] = dp[1] # y coordinate\n",
        "\n",
        "    distanceT = distance.transpose(1,0,2)\n",
        "    current_cluster_index = 0\n",
        "    smallest_data_point_x = 0\n",
        "    smallest_data_point_y = 0\n",
        "    smallestDistance = 1000 # set to a big number\n",
        "    clusters.fill(0)\n",
        "    num_dp_belongs_to_each_cluster = [1 for i in range(num_clusters)]\n",
        "    cluster_dp_x = [[] for i in range(num_clusters)] # holds x axis of all datapoints belong to cluster i\n",
        "    cluster_dp_y = [[] for i in range(num_clusters)] # holds y axis of all datapoints belong to cluster i\n",
        "\n",
        "    for i in range(len(distanceT)): # number of data point\n",
        "      for j in range(len(distanceT[i])): # for each distance from the cluster to the i data point\n",
        "        dis = distanceT[i][j][0] # the squared distance at data point i at cluster j\n",
        "        if dis < smallestDistance:\n",
        "          smallestDistance = dis\n",
        "          smallest_data_point_x = distanceT[i][j][1]\n",
        "          smallest_data_point_y = distanceT[i][j][2]\n",
        "          current_cluster_index = j\n",
        "      smallestDistance = 1000\n",
        "      num_dp_belongs_to_each_cluster[current_cluster_index] += 1\n",
        "      clusters[0][current_cluster_index] += smallest_data_point_x\n",
        "      cluster_dp_x[current_cluster_index].append(smallest_data_point_x)\n",
        "      clusters[1][current_cluster_index] += smallest_data_point_y\n",
        "      cluster_dp_y[current_cluster_index].append(smallest_data_point_y)\n",
        "\n",
        "    # calculate the means\n",
        "    for i in range(num_clusters):\n",
        "      clusters[0][i] = clusters[0][i] / num_dp_belongs_to_each_cluster[i]\n",
        "      clusters[1][i] = clusters[1][i] / num_dp_belongs_to_each_cluster[i]\n",
        "\n",
        "    # if the difference between the current cluster and previous cluster is small, the it converged.\n",
        "    converged = np.linalg.norm(clusters - prev_clusters) < 1e-6\n",
        "    prev_clusters = clusters.copy()\n",
        "\n",
        "  clusters = clusters.transpose()\n",
        "  clustersWithNoPoints = []\n",
        "  for i in range(num_clusters):\n",
        "    dp_for_cluster = num_dp_belongs_to_each_cluster[i]\n",
        "    if dp_for_cluster < 2:\n",
        "      # keep track of clusters with no points or 1 point\n",
        "      clustersWithNoPoints.append(i)\n",
        "      continue\n",
        "    else:\n",
        "      distance_dp_to_cluster = []\n",
        "      for j in range(len(cluster_dp_x[i])):\n",
        "        cluster_x = clusters[i][0]\n",
        "        clsuter_y = clusters[i][1]\n",
        "        dp_x = cluster_dp_x[i][j]\n",
        "        dp_y = cluster_dp_y[i][j]\n",
        "        delta_x_square = (cluster_x - dp_x)**2\n",
        "        delta_y_square = (clsuter_y - dp_y)**2\n",
        "        distance_dp_to_cluster.append(math.sqrt(delta_x_square + delta_y_square))\n",
        "      if len(distance_dp_to_cluster) < 2:\n",
        "        variance[i] = 0\n",
        "      else:\n",
        "        variance[i] = stat.variance(distance_dp_to_cluster) # assign x variance of the i cluster to the ith idnex\n",
        "\n",
        "  # if there are clusters with 0 or 1 points, take the mean variance of the other clusters\n",
        "  if len(clustersWithNoPoints) > 0:\n",
        "    avg_variance_all_other_clusters = []\n",
        "\n",
        "    for i in range(num_clusters):\n",
        "      if i not in clustersWithNoPoints:\n",
        "        avg_variance_all_other_clusters.append(variance[i])\n",
        "    variance[clustersWithNoPoints] = np.mean(avg_variance_all_other_clusters)\n",
        "\n",
        "  all_same_variance = all_same_variance/num_clusters\n",
        "  all_same_variance = np.array([all_same_variance for i in range(len(variance))])\n",
        "\n",
        "  return clusters, variance\n",
        "\n",
        "# test result\n",
        "clusters, variance = kmeans(data, num_clusters=3)\n",
        "print('Final clusters: ', clusters)\n",
        "print('Final variance: ', variance)"
      ],
      "metadata": {
        "colab": {
          "base_uri": "https://localhost:8080/"
        },
        "id": "BjIIMRkg6QPn",
        "outputId": "38898776-293b-48f2-9b3a-f61a34858e6d"
      },
      "execution_count": 52,
      "outputs": [
        {
          "output_type": "stream",
          "name": "stdout",
          "text": [
            "Final clusters:  [[0.81270199 2.17063731]\n",
            " [0.47905818 1.4295865 ]\n",
            " [0.12808439 1.73988512]]\n",
            "Final variance:  [0.00877806 0.00531199 0.00927777]\n"
          ]
        }
      ]
    },
    {
      "cell_type": "code",
      "source": [
        "'''\n",
        "Implementation of the RBF network including regression\n",
        "'''\n",
        "\n",
        "def rbf(x, centers, variance):\n",
        "    return np.exp(-np.linalg.norm(centers - x)**2)\n",
        "\n",
        "class RBFNet(object):\n",
        "    \"\"\"Implementation of a Radial Basis Function Network\"\"\"\n",
        "    def __init__(self, k=3, lr=0.01, epochs=100, rbf=rbf):\n",
        "        self.k = k\n",
        "        self.lr = lr\n",
        "        self.epochs = epochs\n",
        "        self.rbf = rbf\n",
        "        self.w = np.random.randn(k)\n",
        "        self.b = np.random.randn(1)\n",
        "\n",
        "    def fit(self, X, y):\n",
        "      # compute variance from data\n",
        "      self.centers, self.variance = kmeans(X, self.k)\n",
        "\n",
        "\n",
        "      # training\n",
        "      X = X.transpose()\n",
        "      for epoch in range(self.epochs):\n",
        "        for i in range(X.shape[0]):\n",
        "            # forward pass\n",
        "            a = np.array([self.rbf(X[i], center, variance) for center, variance, in zip(self.centers, self.variance)])\n",
        "            F = a.T.dot(self.w) + self.b\n",
        "            loss = (y[i] - F).flatten() ** 2\n",
        "\n",
        "            # backward pass\n",
        "            error = -(y[i] - F).flatten()\n",
        "\n",
        "            # online update\n",
        "            #self.w = self.w - self.lr * a.dot(error)\n",
        "            self.w = self.w - self.lr * a * error\n",
        "            self.b = self.b - self.lr * error\n",
        "\n",
        "    def predict(self, X):\n",
        "      y_pred = []\n",
        "      X = X.transpose()\n",
        "      for i in range(len(X)):\n",
        "        a = np.array([rbf(X[i], center, variance) for center, variance, in zip(self.centers, self.variance)])\n",
        "        F = a.T.dot(self.w) + self.b\n",
        "        y_pred.append(F)\n",
        "      return y_pred"
      ],
      "metadata": {
        "id": "H7caTQSs6VCl"
      },
      "execution_count": 53,
      "outputs": []
    },
    {
      "cell_type": "code",
      "source": [
        "# create the RNF network\n",
        "rbfnet = RBFNet(lr=0.1, k=5)\n",
        "# training process\n",
        "rbfnet.fit(data, desired_y_list)\n",
        "# make prediction using the network\n",
        "y_pred = rbfnet.predict(data)\n",
        "\n",
        "# plot the result\n",
        "plt.plot(data[0], y_list, 'ro', label='Expected')\n",
        "plt.plot(data[0], y_pred, 'co', label='Predicted')\n",
        "\n",
        "# calculating the accuracy and average error\n",
        "num_correct_prediction_points = 0\n",
        "for i in range(len(y_list)):\n",
        "  if abs(y_pred[i] - y_list[i]) < 1e-1:\n",
        "    num_correct_prediction_points += 1\n",
        "print('Predication accuracy of points: ', num_correct_prediction_points/len(y_list))\n",
        "\n",
        "avgError = np.mean([abs(y_pred[i] - y_list[i]) for i in range(len(y_list))])\n",
        "print('Average error of all points: ', avgError)\n",
        "\n",
        "print(rbfnet.centers)\n",
        "\n",
        "plt.legend()\n",
        "plt.tight_layout()\n",
        "plt.show()"
      ],
      "metadata": {
        "colab": {
          "base_uri": "https://localhost:8080/",
          "height": 616
        },
        "id": "-HJjlRrJC7uY",
        "outputId": "394f68ab-8a05-4456-fbdc-2e91982ecbf7"
      },
      "execution_count": 55,
      "outputs": [
        {
          "output_type": "stream",
          "name": "stdout",
          "text": [
            "Predication accuracy of points:  0.48\n",
            "Average error of all points:  0.09752865876122423\n",
            "[[0.         0.        ]\n",
            " [0.12808439 1.73988512]\n",
            " [0.         0.        ]\n",
            " [0.47905818 1.4295865 ]\n",
            " [0.81270199 2.17063731]]\n"
          ]
        },
        {
          "output_type": "display_data",
          "data": {
            "text/plain": [
              "<Figure size 640x480 with 1 Axes>"
            ],
            "image/png": "[encoded data removed]"
          },
          "metadata": {}
        }
      ]
    }
  ]
}