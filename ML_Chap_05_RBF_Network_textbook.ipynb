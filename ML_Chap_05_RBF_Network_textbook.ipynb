{
  "nbformat": 4,
  "nbformat_minor": 0,
  "metadata": {
    "colab": {
      "provenance": [],
      "authorship_tag": "ABX9TyNOS+CDDjIwKX5HdtaE6X40",
      "include_colab_link": true
    },
    "kernelspec": {
      "name": "python3",
      "display_name": "Python 3"
    },
    "language_info": {
      "name": "python"
    }
  },
  "cells": [
    {
      "cell_type": "markdown",
      "metadata": {
        "id": "view-in-github",
        "colab_type": "text"
      },
      "source": [
        "<a href=\"https://colab.research.google.com/github/clionelove123/Machine_Learning/blob/main/ML_Chap_05_RBF_Network_textbook.ipynb\" target=\"_parent\"><img src=\"https://colab.research.google.com/assets/colab-badge.svg\" alt=\"Open In Colab\"/></a>"
      ]
    },
    {
      "cell_type": "code",
      "execution_count": 7,
      "metadata": {
        "id": "aDgPO2e4b8io"
      },
      "outputs": [],
      "source": [
        "import numpy as np\n",
        "import rbf\n",
        "import pylab as pl"
      ]
    },
    {
      "cell_type": "code",
      "source": [
        "iris = np.loadtxt('/content/iris_proc.data',delimiter=',')"
      ],
      "metadata": {
        "id": "46YBaWhEcIGR"
      },
      "execution_count": 5,
      "outputs": []
    },
    {
      "cell_type": "code",
      "source": [
        "iris[:,:4] = iris[:,:4]-iris[:,:4].mean(axis=0)\n",
        "imax = np.concatenate((iris.max(axis=0)*np.ones((1,5)),iris.min(axis=0)*np.ones((1,5))),axis=0).max(axis=0)\n",
        "iris[:,:4] = iris[:,:4]/imax[:4]\n",
        "#print iris[0:5,:]\n",
        "\n",
        "#target = zeros((shape(iris)[0],2));\n",
        "#indices = where(iris[:,4]==0)\n",
        "#target[indices,0] = 1\n",
        "#indices = where(iris[:,4]==1)\n",
        "#target[indices,1] = 1\n",
        "#indices = where(iris[:,4]==2)\n",
        "#target[indices,0] = 1\n",
        "#target[indices,1] = 1\n",
        "\n",
        "target = np.zeros((np.shape(iris)[0],3));\n",
        "indices = np.where(iris[:,4]==0)\n",
        "target[indices,0] = 1\n",
        "indices = np.where(iris[:,4]==1)\n",
        "target[indices,1] = 1\n",
        "indices = np.where(iris[:,4]==2)\n",
        "target[indices,2] = 1\n",
        "\n",
        "\n",
        "order = range(np.shape(iris)[0])\n",
        "np.random.shuffle([150,4])\n",
        "iris = iris[order,:]\n",
        "target = target[order,:]\n",
        "\n",
        "train = iris[::2,0:4]\n",
        "traint = target[::2]\n",
        "valid = iris[1::4,0:4]\n",
        "validt = target[1::4]\n",
        "test = iris[3::4,0:4]\n",
        "testt = target[3::4]\n",
        "\n",
        "#print train.max(axis=0), train.min(axis=0)\n",
        "\n",
        "net = rbf.rbf(train,traint,5,1,1)\n",
        "\n",
        "net.rbftrain(train,traint,0.25,2000)\n",
        "#net.confmat(train,traint)\n",
        "net.confmat(test,testt)"
      ],
      "metadata": {
        "colab": {
          "base_uri": "https://localhost:8080/"
        },
        "id": "sK_UJKqwcQvr",
        "outputId": "56ad4ebb-9f35-41d0-ace9-8e5ca0838ff2"
      },
      "execution_count": 6,
      "outputs": [
        {
          "output_type": "stream",
          "name": "stdout",
          "text": [
            "[[12.  0.  0.]\n",
            " [ 0. 12.  0.]\n",
            " [ 0.  1. 12.]]\n",
            "0.972972972972973\n"
          ]
        }
      ]
    }
  ]
}