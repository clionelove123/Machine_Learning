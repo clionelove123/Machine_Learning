{
  "nbformat": 4,
  "nbformat_minor": 0,
  "metadata": {
    "colab": {
      "provenance": [],
      "authorship_tag": "ABX9TyMl2n/Ayb3VzIiSV41JiquC",
      "include_colab_link": true
    },
    "kernelspec": {
      "name": "python3",
      "display_name": "Python 3"
    },
    "language_info": {
      "name": "python"
    }
  },
  "cells": [
    {
      "cell_type": "markdown",
      "metadata": {
        "id": "view-in-github",
        "colab_type": "text"
      },
      "source": [
        "<a href=\"https://colab.research.google.com/github/clionelove123/Machine_Learning/blob/main/ML_Chap_09_TSP_Problem.ipynb\" target=\"_parent\"><img src=\"https://colab.research.google.com/assets/colab-badge.svg\" alt=\"Open In Colab\"/></a>"
      ]
    },
    {
      "cell_type": "code",
      "execution_count": null,
      "metadata": {
        "id": "QeGj647j3RdF"
      },
      "outputs": [],
      "source": [
        "import numpy as np"
      ]
    },
    {
      "cell_type": "code",
      "source": [
        "def makeTSP(nCities):\n",
        "\tpositions = 2*np.random.rand(nCities,2)-1;\n",
        "\tdistances = np.zeros((nCities,nCities))\n",
        "\n",
        "\tfor i in range(nCities):\n",
        "\t\tfor j in range(i+1,nCities):\n",
        "\t\t\tdistances[i,j] = np.sqrt((positions[i,0] - positions[j,0])**2 + (positions[i,1] - positions[j,1])**2);\n",
        "\t\t\tdistances[j,i] = distances[i,j];\n",
        "\n",
        "\treturn distances"
      ],
      "metadata": {
        "id": "ZiY_gr1l3R4s"
      },
      "execution_count": null,
      "outputs": []
    },
    {
      "cell_type": "code",
      "source": [
        "def exhaustive(distances):\n",
        "\tnCities = np.shape(distances)[0]\n",
        "\n",
        "\tcityOrder = np.arange(nCities)\n",
        "\n",
        "\tdistanceTravelled = 0\n",
        "\tfor i in range(nCities-1):\n",
        "\t\tdistanceTravelled += distances[cityOrder[i],cityOrder[i+1]]\n",
        "\tdistanceTravelled += distances[cityOrder[nCities-1],0]\n",
        "\n",
        "\tfor newOrder in permutation(range(nCities)):\n",
        "\t\tpossibleDistanceTravelled = 0\n",
        "\t\tfor i in range(nCities-1):\n",
        "\t\t\tpossibleDistanceTravelled += distances[newOrder[i],newOrder[i+1]]\n",
        "\t\tpossibleDistanceTravelled += distances[newOrder[nCities-1],0]\n",
        "\n",
        "\t\tif possibleDistanceTravelled < distanceTravelled:\n",
        "\t\t\tdistanceTravelled = possibleDistanceTravelled\n",
        "\t\t\tcityOrder = newOrder\n",
        "\n",
        "\treturn cityOrder, distanceTravelled"
      ],
      "metadata": {
        "id": "cRXqE1Hg3R7W"
      },
      "execution_count": null,
      "outputs": []
    },
    {
      "cell_type": "code",
      "source": [
        "def permutation(order):\n",
        "\torder = tuple(order)\n",
        "\tif len(order)==1:\n",
        "\t\tyield order\n",
        "\telse:\n",
        "\t\tfor i in range(len(order)):\n",
        "\t\t\trest = order[:i] + order[i+1:]\n",
        "\t\t\tmove = (order[i],)\n",
        "\t\t\tfor smaller in permutation(rest):\n",
        "\t\t\t\tyield move + smaller"
      ],
      "metadata": {
        "id": "gaaTxDNE3R9U"
      },
      "execution_count": null,
      "outputs": []
    },
    {
      "cell_type": "code",
      "source": [
        "#def greedy(distances):\n",
        "#\tnCities = np.shape(distances)[0]\n",
        "#\tdistanceTravelled = 0\n",
        "\n",
        "\t# Need a version of the matrix we can trash\n",
        "#\tdist = distances.copy()\n",
        "\n",
        "#\tcityOrder = np.zeros(nCities)\n",
        "#\tcityOrder[0] = np.random.randint(nCities)\n",
        "#\tdist[:,cityOrder[0]] = np.Inf\n",
        "\n",
        "#\tfor i in range(nCities-1):\n",
        "#\t\tcityOrder[i+1] = np.argmin(dist[cityOrder[i],:])\n",
        "#\t\tdistanceTravelled  += dist[cityOrder[i],cityOrder[i+1]]\n",
        "\t\t# Now exclude the chance of travelling to that city again\n",
        "#\t\tdist[:,cityOrder[i+1]] = np.Inf\n",
        "\n",
        "\t# Now return to the original city\n",
        "#\tdistanceTravelled += distances[cityOrder[nCities-1],0]\n",
        "\n",
        "#\treturn cityOrder, distanceTravelled"
      ],
      "metadata": {
        "id": "J43IiFhF3R_Z"
      },
      "execution_count": null,
      "outputs": []
    },
    {
      "cell_type": "code",
      "source": [
        "def greedy(distances):\n",
        "    nCities = np.shape(distances)[0]\n",
        "    distanceTravelled = 0\n",
        "\n",
        "    # Need a version of the matrix we can trash\n",
        "    dist = distances.copy()\n",
        "\n",
        "    cityOrder = np.zeros(nCities, dtype=int)\n",
        "    cityOrder[0] = np.random.randint(nCities)\n",
        "    dist[:, cityOrder[0]] = np.Inf\n",
        "\n",
        "    for i in range(nCities - 1):\n",
        "        cityOrder[i + 1] = np.argmin(dist[cityOrder[i], :])\n",
        "        distanceTravelled += dist[cityOrder[i], cityOrder[i + 1]]\n",
        "        # Now exclude the chance of traveling to that city again\n",
        "        dist[:, cityOrder[i + 1]] = np.Inf\n",
        "\n",
        "    # Now return to the original city\n",
        "    distanceTravelled += distances[cityOrder[nCities - 1], 0]\n",
        "\n",
        "    return cityOrder, distanceTravelled"
      ],
      "metadata": {
        "id": "UAGjnr_-6Atc"
      },
      "execution_count": null,
      "outputs": []
    },
    {
      "cell_type": "code",
      "source": [
        "def hillClimbing(distances):\n",
        "\n",
        "\tnCities = np.shape(distances)[0]\n",
        "\n",
        "\tcityOrder = np.arange(nCities)\n",
        "\tnp.random.shuffle(cityOrder)\n",
        "\n",
        "\tdistanceTravelled = 0\n",
        "\tfor i in range(nCities-1):\n",
        "\t\tdistanceTravelled += distances[cityOrder[i],cityOrder[i+1]]\n",
        "\tdistanceTravelled += distances[cityOrder[nCities-1],0]\n",
        "\n",
        "\tfor i in range(1000):\n",
        "\t\t# Choose cities to swap\n",
        "\t\tcity1 = np.random.randint(nCities)\n",
        "\t\tcity2 = np.random.randint(nCities)\n",
        "\n",
        "\t\tif city1 != city2:\n",
        "\t\t\t# Reorder the set of cities\n",
        "\t\t\tpossibleCityOrder = cityOrder.copy()\n",
        "\t\t\tpossibleCityOrder = np.where(possibleCityOrder==city1,-1,possibleCityOrder)\n",
        "\t\t\tpossibleCityOrder = np.where(possibleCityOrder==city2,city1,possibleCityOrder)\n",
        "\t\t\tpossibleCityOrder = np.where(possibleCityOrder==-1,city2,possibleCityOrder)\n",
        "\n",
        "\t\t\t# Work out the new distances\n",
        "\t\t\t# This can be done more efficiently\n",
        "\t\t\tnewDistanceTravelled = 0\n",
        "\t\t\tfor j in range(nCities-1):\n",
        "\t\t\t\tnewDistanceTravelled += distances[possibleCityOrder[j],possibleCityOrder[j+1]]\n",
        "\t\t\tdistanceTravelled += distances[cityOrder[nCities-1],0]\n",
        "\n",
        "\t\t\tif newDistanceTravelled < distanceTravelled:\n",
        "\t\t\t\tdistanceTravelled = newDistanceTravelled\n",
        "\t\t\t\tcityOrder = possibleCityOrder\n",
        "\n",
        "\treturn cityOrder, distanceTravelled"
      ],
      "metadata": {
        "id": "6EOrdHaI3SBu"
      },
      "execution_count": null,
      "outputs": []
    },
    {
      "cell_type": "code",
      "source": [
        "def simulatedAnnealing(distances):\n",
        "\n",
        "\tnCities = np.shape(distances)[0]\n",
        "\n",
        "\tcityOrder = np.arange(nCities)\n",
        "\tnp.random.shuffle(cityOrder)\n",
        "\n",
        "\tdistanceTravelled = 0\n",
        "\tfor i in range(nCities-1):\n",
        "\t\tdistanceTravelled += distances[cityOrder[i],cityOrder[i+1]]\n",
        "\tdistanceTravelled += distances[cityOrder[nCities-1],0]\n",
        "\n",
        "\tT = 500\n",
        "\tc = 0.8\n",
        "\tnTests = 10\n",
        "\n",
        "\twhile T>1:\n",
        "\t\tfor i in range(nTests):\n",
        "\t\t\t# Choose cities to swap\n",
        "\t\t\tcity1 = np.random.randint(nCities)\n",
        "\t\t\tcity2 = np.random.randint(nCities)\n",
        "\n",
        "\t\t\tif city1 != city2:\n",
        "\t\t\t\t# Reorder the set of cities\n",
        "\t\t\t\tpossibleCityOrder = cityOrder.copy()\n",
        "\t\t\t\tpossibleCityOrder = np.where(possibleCityOrder==city1,-1,possibleCityOrder)\n",
        "\t\t\t\tpossibleCityOrder = np.where(possibleCityOrder==city2,city1,possibleCityOrder)\n",
        "\t\t\t\tpossibleCityOrder = np.where(possibleCityOrder==-1,city2,possibleCityOrder)\n",
        "\n",
        "\t\t\t\t# Work out the new distances\n",
        "\t\t\t\t# This can be done more efficiently\n",
        "\t\t\t\tnewDistanceTravelled = 0\n",
        "\t\t\t\tfor j in range(nCities-1):\n",
        "\t\t\t\t\tnewDistanceTravelled += distances[possibleCityOrder[j],possibleCityOrder[j+1]]\n",
        "\t\t\t\tdistanceTravelled += distances[cityOrder[nCities-1],0]\n",
        "\n",
        "\t\t\t\tif newDistanceTravelled < distanceTravelled or (distanceTravelled - newDistanceTravelled) < T*np.log(np.random.rand()):\n",
        "\t\t\t\t\tdistanceTravelled = newDistanceTravelled\n",
        "\t\t\t\t\tcityOrder = possibleCityOrder\n",
        "\n",
        "\t\t\t# Annealing schedule\n",
        "\t\t\tT = c*T\n",
        "\n",
        "\treturn cityOrder, distanceTravelled"
      ],
      "metadata": {
        "id": "X5t3p-AW3YyH"
      },
      "execution_count": null,
      "outputs": []
    },
    {
      "cell_type": "code",
      "source": [
        "def runAll():\n",
        "\timport time\n",
        "\n",
        "\tprint (\"Exhaustive search\")\n",
        "\tstart = time.time()\n",
        "\tprint (exhaustive(distances))\n",
        "\tfinish = time.time()\n",
        "\tprint (finish-start)\n",
        "\n",
        "\tprint (\"Greedy search\")\n",
        "\tstart = time.time()\n",
        "\tprint (greedy(distances))\n",
        "\tfinish = time.time()\n",
        "\tprint (finish-start)\n",
        "\n",
        "\tprint (\"Hill Climbing\")\n",
        "\tstart = time.time()\n",
        "\tprint (hillClimbing(distances))\n",
        "\tfinish = time.time()\n",
        "\tprint (finish-start)\n",
        "\n",
        "\tprint (\"Simulated Annealing\")\n",
        "\tstart = time.time()\n",
        "\tprint (simulatedAnnealing(distances))\n",
        "\tfinish = time.time()\n",
        "\tprint (finish-start)\n"
      ],
      "metadata": {
        "id": "Hmod-pSS3Y2Y"
      },
      "execution_count": null,
      "outputs": []
    },
    {
      "cell_type": "code",
      "source": [
        "nCities = 6\n",
        "distances = makeTSP(nCities)\n",
        "\n",
        "print (distances)"
      ],
      "metadata": {
        "colab": {
          "base_uri": "https://localhost:8080/"
        },
        "id": "ZUkKE7U33xP4",
        "outputId": "6a7e1554-8674-40eb-c5a1-aea92a01161f"
      },
      "execution_count": null,
      "outputs": [
        {
          "output_type": "stream",
          "name": "stdout",
          "text": [
            "[[0.         0.84651352 1.10140415 1.2145918  0.36861101 1.67713424]\n",
            " [0.84651352 0.         1.50883745 0.41167911 0.48176148 0.97978896]\n",
            " [1.10140415 1.50883745 0.         1.91151795 1.25933165 1.76146814]\n",
            " [1.2145918  0.41167911 1.91151795 0.         0.8473929  0.98813156]\n",
            " [0.36861101 0.48176148 1.25933165 0.8473929  0.         1.37612319]\n",
            " [1.67713424 0.97978896 1.76146814 0.98813156 1.37612319 0.        ]]\n"
          ]
        }
      ]
    },
    {
      "cell_type": "code",
      "source": [
        "runAll()"
      ],
      "metadata": {
        "colab": {
          "base_uri": "https://localhost:8080/"
        },
        "id": "uuVMYnvI5dEG",
        "outputId": "faa200b6-3e43-4488-e368-4d8a3e3d8396"
      },
      "execution_count": null,
      "outputs": [
        {
          "output_type": "stream",
          "name": "stdout",
          "text": [
            "Exhaustive search\n",
            "((2, 5, 3, 1, 4, 0), 4.0116513043304955)\n",
            "0.009154796600341797\n",
            "Greedy search\n",
            "(array([1, 3, 4, 0, 2, 5]), 6.167689552093941)\n",
            "0.0016469955444335938\n",
            "Hill Climbing\n",
            "(array([2, 5, 3, 1, 4, 0]), 4.0116513043304955)\n",
            "0.040738821029663086\n",
            "Simulated Annealing\n",
            "(array([4, 5, 3, 1, 2, 0]), 5.386175469129828)\n",
            "0.0024673938751220703\n"
          ]
        }
      ]
    },
    {
      "cell_type": "code",
      "source": [
        "nCities = 12\n",
        "distances = makeTSP(nCities)#\n",
        "\n",
        "runAll()"
      ],
      "metadata": {
        "colab": {
          "base_uri": "https://localhost:8080/"
        },
        "id": "SOpKCorW5qfl",
        "outputId": "29aaeb15-20ee-449a-80d6-8ce3aa8605d8"
      },
      "execution_count": null,
      "outputs": [
        {
          "output_type": "stream",
          "name": "stdout",
          "text": [
            "Exhaustive search\n",
            "((7, 5, 10, 1, 11, 4, 8, 9, 6, 2, 3, 0), 6.292006101750959)\n",
            "3034.9405987262726\n",
            "Greedy search\n",
            "(array([ 1, 11,  0,  3,  2,  6,  9,  4,  8,  5, 10,  7]), 8.67601202501937)\n",
            "0.0004563331604003906\n",
            "Hill Climbing\n",
            "(array([ 2, 10,  7,  6,  9,  3,  1,  8,  0, 11,  5,  4]), 11.89180794397529)\n",
            "0.05714535713195801\n",
            "Simulated Annealing\n",
            "(array([ 0,  2,  3, 10,  6,  5,  7,  1,  8,  4, 11,  9]), 11.177571852871685)\n",
            "0.002109527587890625\n"
          ]
        }
      ]
    }
  ]
}